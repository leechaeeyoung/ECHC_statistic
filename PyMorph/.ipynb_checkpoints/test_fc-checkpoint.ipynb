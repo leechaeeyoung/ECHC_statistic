{
 "cells": [
  {
   "cell_type": "code",
   "execution_count": 4,
   "id": "e33680f5-3e56-423a-bb3b-8c6148517a98",
   "metadata": {},
   "outputs": [],
   "source": [
    "import Fcstatistics.Fc as fc"
   ]
  },
  {
   "cell_type": "code",
   "execution_count": 5,
   "id": "51f4dac6-cf10-44d0-9f6b-f0a04e7a7930",
   "metadata": {},
   "outputs": [],
   "source": [
    "data = [1, 2, 3, 4, 5, 5, 6, 7, 8, 9, 10]"
   ]
  },
  {
   "cell_type": "code",
   "execution_count": 6,
   "id": "9b95a7b5-6272-4975-b998-78746022ee28",
   "metadata": {},
   "outputs": [
    {
     "name": "stdout",
     "output_type": "stream",
     "text": [
      "Mean: 5.454545454545454\n"
     ]
    }
   ],
   "source": [
    "print(\"Mean:\", fc.Mean(data))"
   ]
  },
  {
   "cell_type": "code",
   "execution_count": null,
   "id": "56697714-18bf-415c-bf8f-ca0fb888b6e9",
   "metadata": {},
   "outputs": [],
   "source": []
  }
 ],
 "metadata": {
  "kernelspec": {
   "display_name": "Python 3 (ipykernel)",
   "language": "python",
   "name": "python3"
  },
  "language_info": {
   "codemirror_mode": {
    "name": "ipython",
    "version": 3
   },
   "file_extension": ".py",
   "mimetype": "text/x-python",
   "name": "python",
   "nbconvert_exporter": "python",
   "pygments_lexer": "ipython3",
   "version": "3.12.2"
  }
 },
 "nbformat": 4,
 "nbformat_minor": 5
}
